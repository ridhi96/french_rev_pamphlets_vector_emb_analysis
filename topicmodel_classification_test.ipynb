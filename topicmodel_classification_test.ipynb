{
  "cells": [
    {
      "cell_type": "code",
      "execution_count": null,
      "metadata": {
        "id": "pyX7qqkHHarn"
      },
      "outputs": [],
      "source": [
        "# Predict topic model numbers using embeddings"
      ]
    },
    {
      "cell_type": "code",
      "execution_count": 1,
      "metadata": {
        "id": "xBkePgLSHarp"
      },
      "outputs": [],
      "source": [
        "import pandas as pd\n",
        "import torch\n",
        "import torch.nn as nn\n",
        "import torch.nn.functional as F"
      ]
    },
    {
      "cell_type": "code",
      "source": [
        "\n",
        "class MultiLabelNN(nn.Module):\n",
        "    def __init__(self):\n",
        "        super(MultiLabelNN, self).__init__()\n",
        "        self.fc1 = nn.Linear(3072, 1024)  # First hidden layer\n",
        "        self.fc2 = nn.Linear(1024, 512)   # Second hidden layer\n",
        "        self.fc3 = nn.Linear(512, 50)     # Output layer\n",
        "\n",
        "    def forward(self, x):\n",
        "        x = F.relu(self.fc1(x))\n",
        "        x = F.relu(self.fc2(x))\n",
        "        x = torch.sigmoid(self.fc3(x))  # Sigmoid activation to get output between 0 and 1\n",
        "        return x\n"
      ],
      "metadata": {
        "id": "XvTMSzi9HoVQ"
      },
      "execution_count": null,
      "outputs": []
    }
  ],
  "metadata": {
    "language_info": {
      "name": "python"
    },
    "colab": {
      "provenance": []
    },
    "kernelspec": {
      "name": "python3",
      "display_name": "Python 3"
    }
  },
  "nbformat": 4,
  "nbformat_minor": 0
}