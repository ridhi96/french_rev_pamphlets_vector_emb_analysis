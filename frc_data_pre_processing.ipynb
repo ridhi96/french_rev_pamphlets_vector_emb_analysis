{
 "cells": [
  {
   "cell_type": "code",
   "execution_count": 1,
   "metadata": {},
   "outputs": [],
   "source": [
    "import pandas as pd\n",
    "from bs4 import BeautifulSoup\n",
    "import re\n",
    "import os\n",
    "import csv"
   ]
  },
  {
   "cell_type": "markdown",
   "metadata": {},
   "source": [
    "### Generating CSV file from XML"
   ]
  },
  {
   "cell_type": "code",
   "execution_count": 17,
   "metadata": {},
   "outputs": [],
   "source": [
    "xml_file_path = \"/Users/ridhipurohit/Documents/French Revolution Data/frc\"\n",
    "\n",
    "# CSV file to write the data\n",
    "csv_file_path = os.path.join(\"/Users/ridhipurohit/Documents/French Revolution Data/\", 'data_frc.csv')\n",
    "\n",
    "# Set to hold all possible headers\n",
    "headers = set(['file_name', 'text_content'])  # Initial known fields\n",
    "    \n",
    "    # Initialize the CSV file and writer\n",
    "with open(csv_file_path, 'w', newline='', encoding='utf-8') as csvfile:\n",
    "        writer = None\n",
    "\n",
    "        # Iterate over all files in the directory\n",
    "        for file_name in os.listdir(xml_file_path):\n",
    "            if file_name.endswith('.xml'):\n",
    "                full_path = os.path.join(xml_file_path, file_name)\n",
    "\n",
    "                # Read the XML content from the file\n",
    "                with open(full_path, 'r', encoding='utf-8') as file:\n",
    "                    xml_content = file.read()\n",
    "\n",
    "                    # Create a BeautifulSoup object for XML parsing\n",
    "                    soup = BeautifulSoup(xml_content, 'xml')\n",
    "\n",
    "                    # Extract metadata\n",
    "                    metadata = soup.find('metadata')\n",
    "                    metadata_dict = {}\n",
    "                    if metadata:\n",
    "                        for element in metadata.find_all(recursive=False):\n",
    "                            metadata_dict[element.name] = element.text.strip()\n",
    "\n",
    "                    # Extract text content using regex to capture everything within <text>...</text>\n",
    "                    text_match = re.search(r'<text>(.*?)</text>', xml_content, re.DOTALL)\n",
    "                    full_text = \"\"\n",
    "                    if text_match:\n",
    "                        # Extract and parse HTML content within text tags\n",
    "                        text_html = text_match.group(1)\n",
    "                        text_soup = BeautifulSoup(text_html, 'html.parser')\n",
    "                        paragraphs = text_soup.find_all('p')\n",
    "                        full_text = \" \".join(p.get_text(strip=True) for p in paragraphs)\n",
    "\n",
    "                    # Prepare the row to be written to CSV\n",
    "                    row_data = {'file_name': file_name, **metadata_dict, 'text_content': full_text}\n",
    "\n",
    "                    # Check if new fields have appeared and update writer if necessary\n",
    "                    new_fields = set(row_data.keys()) - headers\n",
    "                    if new_fields:\n",
    "                        headers.update(new_fields)\n",
    "                        writer = csv.DictWriter(csvfile, fieldnames=list(headers))\n",
    "                        csvfile.seek(0)\n",
    "                        writer.writeheader()\n",
    "\n",
    "                        # Write the data row\n",
    "                    writer.writerow(row_data)"
   ]
  },
  {
   "cell_type": "code",
   "execution_count": 28,
   "metadata": {},
   "outputs": [],
   "source": [
    "df = pd.read_csv(\"/Users/ridhipurohit/Documents/French Revolution Data/data_frc.csv\", low_memory=False)"
   ]
  },
  {
   "cell_type": "code",
   "execution_count": 36,
   "metadata": {},
   "outputs": [
    {
     "data": {
      "text/plain": [
       "11443"
      ]
     },
     "execution_count": 36,
     "metadata": {},
     "output_type": "execute_result"
    }
   ],
   "source": [
    "len(df)"
   ]
  },
  {
   "cell_type": "code",
   "execution_count": 15,
   "metadata": {},
   "outputs": [
    {
     "data": {
      "text/plain": [
       "Index(['subject', 'search_id', 'dfate', 'physical-description', 'rerepublish',\n",
       "       'volume', 'text_content', 'creator', 'sponsor', 'ocr', 'language',\n",
       "       'bwocr', 'repub_state', 'languate', 'page-progression', 'scanfee',\n",
       "       'file_name', 'contributor', 'year', 'invoice', 'link_to_catalog',\n",
       "       'foldoutcount', 'scanner', 'uploader', 'republisher_date', 'collection',\n",
       "       'physical_description', 'curation', 'item_number', 'scanningcenter',\n",
       "       'openlibrary_edition', 'shiptracking', 'scandate', 'openlibrary_work',\n",
       "       'sponsordate', 'date', 'repub_seconds', 'identifier', 'identifier-ark',\n",
       "       'mediatype', 'notes', 'identifier-access', 'topicmodel', 'publisher',\n",
       "       'republisher_operator', 'republisher_time', 'operator', 'ppi',\n",
       "       'description', 'bookplateleaf', 'republisher', 'title', 'imagecount',\n",
       "       'allsubjects', 'foldout_seconds', 'bookreader-defaults', 'lccn',\n",
       "       'backup_location', 'call_number', 'coverage', 'foldout-operator',\n",
       "       'camera', 'updatedate', 'publicdate', 'citation', 'addeddate',\n",
       "       'link-to-catalog', 'updater', 'source'],\n",
       "      dtype='object')"
      ]
     },
     "execution_count": 15,
     "metadata": {},
     "output_type": "execute_result"
    }
   ],
   "source": [
    "df.columns"
   ]
  },
  {
   "cell_type": "code",
   "execution_count": 37,
   "metadata": {},
   "outputs": [
    {
     "data": {
      "text/plain": [
       "array(['1791', '1796', '1797', '1790', '1792', '1789', '1795', '1794',\n",
       "       '1793', '1798', '1799', '1788', '1787', '1797?', '1789-1791',\n",
       "       '1831', '1797-1798', '1798/1799', '1789?', '1793-1794', '1793?',\n",
       "       '1800', '1799-1800', '1791-1792', '1790-1799?', '1814',\n",
       "       '1793/1794', '1790?', '1795-1796', '1796/1797', '1790-1791',\n",
       "       '1801', '1794-1795', '1792/1793', '1797/1798', '1795/1799',\n",
       "       '1796-1797', '1820'], dtype=object)"
      ]
     },
     "execution_count": 37,
     "metadata": {},
     "output_type": "execute_result"
    }
   ],
   "source": [
    "df['date'].unique()"
   ]
  },
  {
   "cell_type": "code",
   "execution_count": 10,
   "metadata": {},
   "outputs": [
    {
     "data": {
      "text/html": [
       "<div>\n",
       "<style scoped>\n",
       "    .dataframe tbody tr th:only-of-type {\n",
       "        vertical-align: middle;\n",
       "    }\n",
       "\n",
       "    .dataframe tbody tr th {\n",
       "        vertical-align: top;\n",
       "    }\n",
       "\n",
       "    .dataframe thead th {\n",
       "        text-align: right;\n",
       "    }\n",
       "</style>\n",
       "<table border=\"1\" class=\"dataframe\">\n",
       "  <thead>\n",
       "    <tr style=\"text-align: right;\">\n",
       "      <th></th>\n",
       "      <th>subject</th>\n",
       "      <th>search_id</th>\n",
       "      <th>dfate</th>\n",
       "      <th>physical-description</th>\n",
       "      <th>rerepublish</th>\n",
       "      <th>volume</th>\n",
       "      <th>text_content</th>\n",
       "      <th>creator</th>\n",
       "      <th>sponsor</th>\n",
       "      <th>ocr</th>\n",
       "      <th>...</th>\n",
       "      <th>coverage</th>\n",
       "      <th>foldout-operator</th>\n",
       "      <th>camera</th>\n",
       "      <th>updatedate</th>\n",
       "      <th>publicdate</th>\n",
       "      <th>citation</th>\n",
       "      <th>addeddate</th>\n",
       "      <th>link-to-catalog</th>\n",
       "      <th>updater</th>\n",
       "      <th>source</th>\n",
       "    </tr>\n",
       "  </thead>\n",
       "  <tbody>\n",
       "    <tr>\n",
       "      <th>202</th>\n",
       "      <td>Credit</td>\n",
       "      <td>NaN</td>\n",
       "      <td>NaN</td>\n",
       "      <td>NaN</td>\n",
       "      <td>NaN</td>\n",
       "      <td>NaN</td>\n",
       "      <td>ffcfrff - ' MÉMOIRE SUR LES finances ET SUR LE...</td>\n",
       "      <td>Lauraguais, Louis-Léon-Félicité, comte de, ...</td>\n",
       "      <td>The Newberry Library</td>\n",
       "      <td>ABBYY FineReader 11.0</td>\n",
       "      <td>...</td>\n",
       "      <td>NaN</td>\n",
       "      <td>NaN</td>\n",
       "      <td>Canon EOS 5D Mark II</td>\n",
       "      <td>2016-08-11 12:29:11</td>\n",
       "      <td>2016-08-11 11:30:03</td>\n",
       "      <td>Martin &amp; Walter.  Révolution française,  I, ...</td>\n",
       "      <td>2016-08-11 12:29:13</td>\n",
       "      <td>NaN</td>\n",
       "      <td>chrissy-robinson@archive.org</td>\n",
       "      <td>NaN</td>\n",
       "    </tr>\n",
       "    <tr>\n",
       "      <th>440</th>\n",
       "      <td>Finance, Public</td>\n",
       "      <td>NaN</td>\n",
       "      <td>NaN</td>\n",
       "      <td>NaN</td>\n",
       "      <td>NaN</td>\n",
       "      <td>NaN</td>\n",
       "      <td>O (je 0/L-li^ O- t L' \\nyyV (. '^iy -c- ■1:^^ ...</td>\n",
       "      <td>France. Assemblée des notables (1787-1788).</td>\n",
       "      <td>The Newberry Library</td>\n",
       "      <td>ABBYY FineReader 11.0</td>\n",
       "      <td>...</td>\n",
       "      <td>NaN</td>\n",
       "      <td>NaN</td>\n",
       "      <td>Canon EOS 5D Mark II</td>\n",
       "      <td>2017-02-14 14:17:39</td>\n",
       "      <td>2017-02-14 13:00:36</td>\n",
       "      <td>Martin &amp; Walter.  Révolution française, I, 5810</td>\n",
       "      <td>2017-02-14 14:17:41</td>\n",
       "      <td>NaN</td>\n",
       "      <td>chrissy-robinson@archive.org</td>\n",
       "      <td>NaN</td>\n",
       "    </tr>\n",
       "    <tr>\n",
       "      <th>460</th>\n",
       "      <td>Letters patent</td>\n",
       "      <td>NaN</td>\n",
       "      <td>NaN</td>\n",
       "      <td>NaN</td>\n",
       "      <td>NaN</td>\n",
       "      <td>NaN</td>\n",
       "      <td>DIFFÉRENS DISCOURS AU ROI, Par M. de Valentin,...</td>\n",
       "      <td>France. Cour des aides (Paris).</td>\n",
       "      <td>The Newberry Library</td>\n",
       "      <td>ABBYY FineReader 11.0</td>\n",
       "      <td>...</td>\n",
       "      <td>NaN</td>\n",
       "      <td>NaN</td>\n",
       "      <td>Canon EOS 5D Mark II</td>\n",
       "      <td>2016-04-18 20:47:14</td>\n",
       "      <td>2016-04-18 19:36:56</td>\n",
       "      <td>NaN</td>\n",
       "      <td>2016-04-18 20:47:16</td>\n",
       "      <td>NaN</td>\n",
       "      <td>chrissy-robinson@archive.org</td>\n",
       "      <td>NaN</td>\n",
       "    </tr>\n",
       "    <tr>\n",
       "      <th>676</th>\n",
       "      <td>Adultery</td>\n",
       "      <td>NaN</td>\n",
       "      <td>NaN</td>\n",
       "      <td>NaN</td>\n",
       "      <td>NaN</td>\n",
       "      <td>NaN</td>\n",
       "      <td>Cmc. m lettre D E M. baudet DE jordan. BffiNEV...</td>\n",
       "      <td>Bergasse, Nicolas, 1750-1832.</td>\n",
       "      <td>The Newberry Library</td>\n",
       "      <td>ABBYY FineReader 11.0</td>\n",
       "      <td>...</td>\n",
       "      <td>NaN</td>\n",
       "      <td>NaN</td>\n",
       "      <td>Canon EOS 5D Mark II</td>\n",
       "      <td>2016-08-16 14:29:17</td>\n",
       "      <td>2016-08-16 12:59:09</td>\n",
       "      <td>NaN</td>\n",
       "      <td>2016-08-16 14:29:19</td>\n",
       "      <td>NaN</td>\n",
       "      <td>chrissy-robinson@archive.org</td>\n",
       "      <td>NaN</td>\n",
       "    </tr>\n",
       "    <tr>\n",
       "      <th>683</th>\n",
       "      <td>Botanical literature</td>\n",
       "      <td>NaN</td>\n",
       "      <td>NaN</td>\n",
       "      <td>p. ;cm.</td>\n",
       "      <td>NaN</td>\n",
       "      <td>NaN</td>\n",
       "      <td>I7^y P RO s PE CT U s, NOUVEAU TRAITÉ Lu \\ -M ...</td>\n",
       "      <td>Valade, veuve, fl. 1784-1799, printer.</td>\n",
       "      <td>The Newberry Library</td>\n",
       "      <td>ABBYY FineReader 11.0</td>\n",
       "      <td>...</td>\n",
       "      <td>NaN</td>\n",
       "      <td>NaN</td>\n",
       "      <td>NaN</td>\n",
       "      <td>2017-06-28 19:59:26</td>\n",
       "      <td>2017-06-28 18:55:26</td>\n",
       "      <td>NaN</td>\n",
       "      <td>2017-06-28 19:59:28</td>\n",
       "      <td>http://vufind.carli.illinois.edu/vf-nby/Record...</td>\n",
       "      <td>chrissy-robinson@archive.org</td>\n",
       "      <td>NaN</td>\n",
       "    </tr>\n",
       "  </tbody>\n",
       "</table>\n",
       "<p>5 rows × 69 columns</p>\n",
       "</div>"
      ],
      "text/plain": [
       "                  subject  search_id dfate physical-description  rerepublish  \\\n",
       "202                Credit        NaN   NaN                  NaN          NaN   \n",
       "440       Finance, Public        NaN   NaN                  NaN          NaN   \n",
       "460        Letters patent        NaN   NaN                  NaN          NaN   \n",
       "676              Adultery        NaN   NaN                  NaN          NaN   \n",
       "683  Botanical literature        NaN   NaN              p. ;cm.          NaN   \n",
       "\n",
       "    volume                                       text_content  \\\n",
       "202    NaN  ffcfrff - ' MÉMOIRE SUR LES finances ET SUR LE...   \n",
       "440    NaN  O (je 0/L-li^ O- t L' \\nyyV (. '^iy -c- ■1:^^ ...   \n",
       "460    NaN  DIFFÉRENS DISCOURS AU ROI, Par M. de Valentin,...   \n",
       "676    NaN  Cmc. m lettre D E M. baudet DE jordan. BffiNEV...   \n",
       "683    NaN  I7^y P RO s PE CT U s, NOUVEAU TRAITÉ Lu \\ -M ...   \n",
       "\n",
       "                                               creator               sponsor  \\\n",
       "202  Lauraguais, Louis-Léon-Félicité, comte de, ...  The Newberry Library   \n",
       "440       France. Assemblée des notables (1787-1788).  The Newberry Library   \n",
       "460                    France. Cour des aides (Paris).  The Newberry Library   \n",
       "676                      Bergasse, Nicolas, 1750-1832.  The Newberry Library   \n",
       "683             Valade, veuve, fl. 1784-1799, printer.  The Newberry Library   \n",
       "\n",
       "                       ocr  ... coverage  foldout-operator  \\\n",
       "202  ABBYY FineReader 11.0  ...      NaN               NaN   \n",
       "440  ABBYY FineReader 11.0  ...      NaN               NaN   \n",
       "460  ABBYY FineReader 11.0  ...      NaN               NaN   \n",
       "676  ABBYY FineReader 11.0  ...      NaN               NaN   \n",
       "683  ABBYY FineReader 11.0  ...      NaN               NaN   \n",
       "\n",
       "                   camera           updatedate           publicdate  \\\n",
       "202  Canon EOS 5D Mark II  2016-08-11 12:29:11  2016-08-11 11:30:03   \n",
       "440  Canon EOS 5D Mark II  2017-02-14 14:17:39  2017-02-14 13:00:36   \n",
       "460  Canon EOS 5D Mark II  2016-04-18 20:47:14  2016-04-18 19:36:56   \n",
       "676  Canon EOS 5D Mark II  2016-08-16 14:29:17  2016-08-16 12:59:09   \n",
       "683                   NaN  2017-06-28 19:59:26  2017-06-28 18:55:26   \n",
       "\n",
       "                                              citation            addeddate  \\\n",
       "202  Martin & Walter.  Révolution française,  I, ...  2016-08-11 12:29:13   \n",
       "440  Martin & Walter.  Révolution française, I, 5810  2017-02-14 14:17:41   \n",
       "460                                                NaN  2016-04-18 20:47:16   \n",
       "676                                                NaN  2016-08-16 14:29:19   \n",
       "683                                                NaN  2017-06-28 19:59:28   \n",
       "\n",
       "                                       link-to-catalog  \\\n",
       "202                                                NaN   \n",
       "440                                                NaN   \n",
       "460                                                NaN   \n",
       "676                                                NaN   \n",
       "683  http://vufind.carli.illinois.edu/vf-nby/Record...   \n",
       "\n",
       "                          updater  source  \n",
       "202  chrissy-robinson@archive.org     NaN  \n",
       "440  chrissy-robinson@archive.org     NaN  \n",
       "460  chrissy-robinson@archive.org     NaN  \n",
       "676  chrissy-robinson@archive.org     NaN  \n",
       "683  chrissy-robinson@archive.org     NaN  \n",
       "\n",
       "[5 rows x 69 columns]"
      ]
     },
     "execution_count": 10,
     "metadata": {},
     "output_type": "execute_result"
    }
   ],
   "source": [
    "df.head()"
   ]
  },
  {
   "cell_type": "code",
   "execution_count": 89,
   "metadata": {},
   "outputs": [
    {
     "data": {
      "text/plain": [
       "114    LES VÉRITABLES INTÉRÊTS DES VftC \\n% ^ TROIS O...\n",
       "123    V e* %CK° ‘AïfVflfi'' EXTRAIT DES REGISTRES D ...\n",
       "184    PROCÈS-VERBAL DE V INSTALLATION DU GRAND BAILL...\n",
       "220    |5 0 ÜTT» oit +^-ér§ V ( I )  RÉFLEXIONS Sur V...\n",
       "230    ■ LES voeux DE LA PATRIE FORMÉS ET SATISFAITS»...\n",
       "Name: text_content, dtype: object"
      ]
     },
     "execution_count": 89,
     "metadata": {},
     "output_type": "execute_result"
    }
   ],
   "source": [
    "df['text_content'].head()"
   ]
  },
  {
   "cell_type": "markdown",
   "metadata": {},
   "source": [
    "### Generating Yearly CSV Files"
   ]
  },
  {
   "cell_type": "code",
   "execution_count": 45,
   "metadata": {},
   "outputs": [],
   "source": [
    "df1 = df.loc[df['date'] == '1791']"
   ]
  },
  {
   "cell_type": "code",
   "execution_count": 46,
   "metadata": {},
   "outputs": [
    {
     "data": {
      "text/plain": [
       "1320"
      ]
     },
     "execution_count": 46,
     "metadata": {},
     "output_type": "execute_result"
    }
   ],
   "source": [
    "len(df1)"
   ]
  },
  {
   "cell_type": "code",
   "execution_count": 47,
   "metadata": {},
   "outputs": [],
   "source": [
    "df1.to_csv(\"/Users/ridhipurohit/Documents/French Revolution Data/Rep Learning/Yearly Data/data_frc_1791.csv\")"
   ]
  },
  {
   "cell_type": "code",
   "execution_count": 48,
   "metadata": {},
   "outputs": [
    {
     "data": {
      "text/plain": [
       "1320"
      ]
     },
     "execution_count": 48,
     "metadata": {},
     "output_type": "execute_result"
    }
   ],
   "source": [
    "df2 = pd.read_csv(\"/Users/ridhipurohit/Documents/French Revolution Data/Rep Learning/Yearly Data/data_frc_1791.csv\")\n",
    "len(df2)"
   ]
  },
  {
   "cell_type": "markdown",
   "metadata": {},
   "source": [
    "### PRE_PROCESSING YEARLY DATA"
   ]
  },
  {
   "cell_type": "code",
   "execution_count": 49,
   "metadata": {},
   "outputs": [],
   "source": [
    "def remove_single_letters(text):\n",
    "    return ' '.join([word for word in str(text).split() if len(word) > 1])\n"
   ]
  },
  {
   "cell_type": "code",
   "execution_count": 50,
   "metadata": {},
   "outputs": [],
   "source": [
    "# Pre-processing text\n",
    "\n",
    "def clean_text(df):\n",
    "    df['text_content'] = df['text_content'].str.lower()\n",
    "    df['text_content'] = df['text_content'].str.replace(r'[^\\w\\s]', '', regex=True)\n",
    "    df['text_content'] = df['text_content'].str.replace(r'\\d+', '', regex=True)\n",
    "    df['text_content'] = df['text_content'].str.strip()\n",
    "    df['text_content'] = df['text_content'].str.replace(r'\\s+', ' ', regex=True)\n",
    "    df['text_content'] = df['text_content'].apply(remove_single_letters)\n",
    "\n",
    "    return df"
   ]
  },
  {
   "cell_type": "code",
   "execution_count": 52,
   "metadata": {},
   "outputs": [],
   "source": [
    "fp1 = \"/Users/ridhipurohit/Documents/French Revolution Data/Rep Learning/Yearly Data/data_frc_1787.csv\"\n",
    "fp2 = \"/Users/ridhipurohit/Documents/French Revolution Data/Rep Learning/Yearly Data/data_frc_1789.csv\"\n",
    "fp3 = \"/Users/ridhipurohit/Documents/French Revolution Data/Rep Learning/Yearly Data/data_frc_1790.csv\"\n",
    "fp4 = \"/Users/ridhipurohit/Documents/French Revolution Data/Rep Learning/Yearly Data/data_frc_1791.csv\"\n",
    "output_dir = \"/Users/ridhipurohit/Documents/French Revolution Data/Rep Learning/Pre-Processed Yearly Data\"\n"
   ]
  },
  {
   "cell_type": "code",
   "execution_count": 53,
   "metadata": {},
   "outputs": [],
   "source": [
    "for fp in [fp1, fp2, fp3, fp4]:\n",
    "    df = pd.read_csv(fp)\n",
    "    df = clean_text(df)\n",
    "    \n",
    "    # save cleaned data\n",
    "    file_name = os.path.basename(fp)\n",
    "    output_path = os.path.join(output_dir, file_name)\n",
    "    \n",
    "    df.to_csv(output_path)"
   ]
  },
  {
   "cell_type": "code",
   "execution_count": 62,
   "metadata": {},
   "outputs": [],
   "source": [
    "df3 = pd.read_csv(\"/Users/ridhipurohit/Documents/French Revolution Data/Rep Learning/Pre-Processed Yearly Data/frc_1788_norm_text.csv\")"
   ]
  },
  {
   "cell_type": "code",
   "execution_count": 55,
   "metadata": {},
   "outputs": [
    {
     "data": {
      "text/plain": [
       "0    ffcfrff mémoire sur les finances et sur le cré...\n",
       "1    je lli yyv iy sc prononcé de lordre du roi et ...\n",
       "2    différens discours au roi par de valentin des ...\n",
       "3    cmc lettre baudet de jordan bffinevb mm übrary...\n",
       "4    iy ro pe ct nouveau traité lu physique et écon...\n",
       "Name: text_content, dtype: object"
      ]
     },
     "execution_count": 55,
     "metadata": {},
     "output_type": "execute_result"
    }
   ],
   "source": [
    "df3['text_content'].head()"
   ]
  },
  {
   "cell_type": "code",
   "execution_count": 57,
   "metadata": {},
   "outputs": [
    {
     "data": {
      "text/plain": [
       "0    fy _ji bref mémoire le lieutenantgénéral au ba...\n",
       "1    relation de tout ce qui sest passé de relatif ...\n",
       "2    jj délibération commission intermédiaire de ha...\n",
       "3    curé de picardie un évêque sur le droit des cu...\n",
       "4    prononcé par rômantribuths feur aix procureur ...\n",
       "Name: text_content, dtype: object"
      ]
     },
     "execution_count": 57,
     "metadata": {},
     "output_type": "execute_result"
    }
   ],
   "source": [
    "df3['text_content'].head()"
   ]
  },
  {
   "cell_type": "code",
   "execution_count": 59,
   "metadata": {},
   "outputs": [
    {
     "data": {
      "text/plain": [
       "0    arrêté de la chambre des comptes da ix jv octo...\n",
       "1    adresse de plusieurs membres du clergé de sain...\n",
       "2    de notre honneur nous obligent fous prémunir c...\n",
       "3    apologie oej ftyïv du serment par un prêtée de...\n",
       "4    observations sur le chapitre vih un imprimé ay...\n",
       "Name: text_content, dtype: object"
      ]
     },
     "execution_count": 59,
     "metadata": {},
     "output_type": "execute_result"
    }
   ],
   "source": [
    "df3['text_content'].head()"
   ]
  },
  {
   "cell_type": "code",
   "execution_count": 61,
   "metadata": {},
   "outputs": [
    {
     "data": {
      "text/plain": [
       "0    va de dépense qve rend le directoire du départ...\n",
       "1    éloge funebre de mirabeau prononcé le mai la c...\n",
       "2    nouvelle instruction en forme de conférence ou...\n",
       "3    triomphe de rité un ay san the ri yertissement...\n",
       "4    compte rendu ses commettans par de bonneville ...\n",
       "Name: text_content, dtype: object"
      ]
     },
     "execution_count": 61,
     "metadata": {},
     "output_type": "execute_result"
    }
   ],
   "source": [
    "df3['text_content'].head()"
   ]
  },
  {
   "cell_type": "code",
   "execution_count": 63,
   "metadata": {},
   "outputs": [
    {
     "data": {
      "text/plain": [
       "0    les véritables intérêts des vftc trois ordres ...\n",
       "1    ck aïfvflfi extrait des registres sénéchal et ...\n",
       "2    procèsverbal de installation du grand bailliag...\n",
       "3    ütt oit ér réflexions sur administration de la...\n",
       "4    les voeux de la patrie formés et satisfaits le...\n",
       "Name: text_content, dtype: object"
      ]
     },
     "execution_count": 63,
     "metadata": {},
     "output_type": "execute_result"
    }
   ],
   "source": [
    "df3['text_content'].head()"
   ]
  },
  {
   "cell_type": "code",
   "execution_count": 94,
   "metadata": {},
   "outputs": [
    {
     "name": "stdout",
     "output_type": "stream",
     "text": [
      "Total words: 2658366\n"
     ]
    }
   ],
   "source": [
    "def count_words(text):\n",
    "    return len(str(text).split())\n",
    "\n",
    "df3 = df['text_content'].apply(count_words)\n",
    "\n",
    "# Calculate the total number of words\n",
    "total_words = df3.sum()\n",
    "print(\"Total words:\", total_words)"
   ]
  },
  {
   "cell_type": "code",
   "execution_count": 95,
   "metadata": {},
   "outputs": [
    {
     "name": "stdout",
     "output_type": "stream",
     "text": [
      "Total single-letter words: 154332\n"
     ]
    }
   ],
   "source": [
    "def count_single_letters(text):\n",
    "    return sum(len(word) == 1 for word in str(text).split())\n",
    "\n",
    "df4 = df['text_content'].apply(count_single_letters)\n",
    "\n",
    "# Calculate the total number of single-letter words\n",
    "total_single_letters = df4.sum()\n",
    "print(\"Total single-letter words:\", total_single_letters)"
   ]
  },
  {
   "cell_type": "code",
   "execution_count": 97,
   "metadata": {},
   "outputs": [
    {
     "name": "stdout",
     "output_type": "stream",
     "text": [
      "Total words: 2504034\n"
     ]
    }
   ],
   "source": [
    "\n",
    "df5 = df['text_content'].apply(count_words)\n",
    "\n",
    "# Calculate the total number of words\n",
    "total_words = df5.sum()\n",
    "print(\"Total words:\", total_words)"
   ]
  },
  {
   "cell_type": "code",
   "execution_count": null,
   "metadata": {},
   "outputs": [],
   "source": []
  }
 ],
 "metadata": {
  "kernelspec": {
   "display_name": "Python 3",
   "language": "python",
   "name": "python3"
  },
  "language_info": {
   "codemirror_mode": {
    "name": "ipython",
    "version": 3
   },
   "file_extension": ".py",
   "mimetype": "text/x-python",
   "name": "python",
   "nbconvert_exporter": "python",
   "pygments_lexer": "ipython3",
   "version": "3.11.1"
  }
 },
 "nbformat": 4,
 "nbformat_minor": 2
}
