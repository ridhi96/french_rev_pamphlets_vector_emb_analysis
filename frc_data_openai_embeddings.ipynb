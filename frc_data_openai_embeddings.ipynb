{
  "cells": [
    {
      "cell_type": "code",
      "execution_count": null,
      "metadata": {
        "id": "vVKgiVrWVRXG"
      },
      "outputs": [],
      "source": [
        "! pip3 install openai transformers plotly matplotlib scikit-learn torch torchvision scipy tiktoken"
      ]
    },
    {
      "cell_type": "code",
      "execution_count": 5,
      "metadata": {
        "id": "r7sN3EsOL6xs"
      },
      "outputs": [],
      "source": [
        "import pandas as pd\n",
        "import tiktoken\n",
        "import openai\n",
        "from openai import OpenAI\n"
      ]
    },
    {
      "cell_type": "code",
      "execution_count": 3,
      "metadata": {
        "id": "SaYi1SXu1ngB"
      },
      "outputs": [],
      "source": [
        "# Define your embedding model details\n",
        "embedding_model = \"text-embedding-3-large\"\n",
        "max_tokens=8192"
      ]
    },
    {
      "cell_type": "code",
      "execution_count": 6,
      "metadata": {
        "id": "XZKuI562y6Bd"
      },
      "outputs": [],
      "source": [
        "client = OpenAI(api_key='', max_retries=5)\n",
        "\n",
        "# initialize tokenizer\n",
        "encoding = tiktoken.get_encoding(\"cl100k_base\")\n",
        "\n",
        "def get_embedding(text: str, model=embedding_model, **kwargs) -> List[float]:\n",
        "    # replace newlines\n",
        "    text = text.replace(\"\\n\", \" \")\n",
        "\n",
        "    # truncate tokens\n",
        "    tokens = encoding.encode(text)\n",
        "\n",
        "    if len(tokens) > max_tokens:\n",
        "        text = encoding.decode(tokens[:max_tokens])\n",
        "\n",
        "    response = client.embeddings.create(input=[text], model=model, **kwargs)\n",
        "\n",
        "    return response.data[0].embedding\n"
      ]
    },
    {
      "cell_type": "code",
      "execution_count": 39,
      "metadata": {
        "id": "CQ_oHugUzxWM"
      },
      "outputs": [],
      "source": [
        "# Read data\n",
        "df = pd.read_csv(\"/content/data_frc_1791_norm_text.csv\")"
      ]
    },
    {
      "cell_type": "code",
      "execution_count": 40,
      "metadata": {
        "colab": {
          "base_uri": "https://localhost:8080/",
          "height": 620
        },
        "id": "LVqJvykbz5B4",
        "outputId": "4fd05809-610b-4486-8580-b0b67c096980"
      },
      "outputs": [
        {
          "data": {
            "application/vnd.google.colaboratory.intrinsic+json": {
              "type": "dataframe",
              "variable_name": "df"
            },
            "text/html": [
              "\n",
              "  <div id=\"df-365b278c-c713-42af-aeba-f513d2b8bbd4\" class=\"colab-df-container\">\n",
              "    <div>\n",
              "<style scoped>\n",
              "    .dataframe tbody tr th:only-of-type {\n",
              "        vertical-align: middle;\n",
              "    }\n",
              "\n",
              "    .dataframe tbody tr th {\n",
              "        vertical-align: top;\n",
              "    }\n",
              "\n",
              "    .dataframe thead th {\n",
              "        text-align: right;\n",
              "    }\n",
              "</style>\n",
              "<table border=\"1\" class=\"dataframe\">\n",
              "  <thead>\n",
              "    <tr style=\"text-align: right;\">\n",
              "      <th></th>\n",
              "      <th>Unnamed: 0.1</th>\n",
              "      <th>Unnamed: 0</th>\n",
              "      <th>subject</th>\n",
              "      <th>search_id</th>\n",
              "      <th>dfate</th>\n",
              "      <th>physical-description</th>\n",
              "      <th>rerepublish</th>\n",
              "      <th>volume</th>\n",
              "      <th>text_content</th>\n",
              "      <th>creator</th>\n",
              "      <th>...</th>\n",
              "      <th>coverage</th>\n",
              "      <th>foldout-operator</th>\n",
              "      <th>camera</th>\n",
              "      <th>updatedate</th>\n",
              "      <th>publicdate</th>\n",
              "      <th>citation</th>\n",
              "      <th>addeddate</th>\n",
              "      <th>link-to-catalog</th>\n",
              "      <th>updater</th>\n",
              "      <th>source</th>\n",
              "    </tr>\n",
              "  </thead>\n",
              "  <tbody>\n",
              "    <tr>\n",
              "      <th>0</th>\n",
              "      <td>0</td>\n",
              "      <td>0</td>\n",
              "      <td>Public, Finance</td>\n",
              "      <td>NaN</td>\n",
              "      <td>NaN</td>\n",
              "      <td>NaN</td>\n",
              "      <td>NaN</td>\n",
              "      <td>NaN</td>\n",
              "      <td>va de dépense qve rend le directoire du départ...</td>\n",
              "      <td>Ardèche (France). Directoire.</td>\n",
              "      <td>...</td>\n",
              "      <td>France--Ardèche</td>\n",
              "      <td>NaN</td>\n",
              "      <td>NaN</td>\n",
              "      <td>NaN</td>\n",
              "      <td>2016-05-10 21:20:59</td>\n",
              "      <td>NaN</td>\n",
              "      <td>2016-05-10 21:20:59</td>\n",
              "      <td>NaN</td>\n",
              "      <td>NaN</td>\n",
              "      <td>NaN</td>\n",
              "    </tr>\n",
              "    <tr>\n",
              "      <th>1</th>\n",
              "      <td>1</td>\n",
              "      <td>8</td>\n",
              "      <td>Mirabeau, Honoré-Gabriel de Riquetti, comte d...</td>\n",
              "      <td>NaN</td>\n",
              "      <td>NaN</td>\n",
              "      <td>NaN</td>\n",
              "      <td>NaN</td>\n",
              "      <td>NaN</td>\n",
              "      <td>éloge funebre de mirabeau prononcé le mai la c...</td>\n",
              "      <td>Société des amis de la constitution (Sèvres...</td>\n",
              "      <td>...</td>\n",
              "      <td>NaN</td>\n",
              "      <td>NaN</td>\n",
              "      <td>Canon EOS 5D Mark II</td>\n",
              "      <td>2016-08-17 15:12:42</td>\n",
              "      <td>2016-08-17 13:56:08</td>\n",
              "      <td>NaN</td>\n",
              "      <td>2016-08-17 15:12:44</td>\n",
              "      <td>NaN</td>\n",
              "      <td>chrissy-robinson@archive.org</td>\n",
              "      <td>NaN</td>\n",
              "    </tr>\n",
              "    <tr>\n",
              "      <th>2</th>\n",
              "      <td>2</td>\n",
              "      <td>24</td>\n",
              "      <td>Church and state</td>\n",
              "      <td>NaN</td>\n",
              "      <td>1791.0</td>\n",
              "      <td>NaN</td>\n",
              "      <td>NaN</td>\n",
              "      <td>NaN</td>\n",
              "      <td>nouvelle instruction en forme de conférence ou...</td>\n",
              "      <td>Pichard, Jean-Louis, 1759-1819, publisher.</td>\n",
              "      <td>...</td>\n",
              "      <td>NaN</td>\n",
              "      <td>NaN</td>\n",
              "      <td>NaN</td>\n",
              "      <td>2017-04-19 13:15:32</td>\n",
              "      <td>2017-04-19 12:13:44</td>\n",
              "      <td>Barbier, A.A.  Ouvrages anonymes,  III, column...</td>\n",
              "      <td>2017-04-19 13:15:34</td>\n",
              "      <td>NaN</td>\n",
              "      <td>chrissy-robinson@archive.org</td>\n",
              "      <td>NaN</td>\n",
              "    </tr>\n",
              "    <tr>\n",
              "      <th>3</th>\n",
              "      <td>3</td>\n",
              "      <td>36</td>\n",
              "      <td>NaN</td>\n",
              "      <td>NaN</td>\n",
              "      <td>NaN</td>\n",
              "      <td>NaN</td>\n",
              "      <td>NaN</td>\n",
              "      <td>NaN</td>\n",
              "      <td>triomphe de rité un ay san the ri yertissement...</td>\n",
              "      <td>NaN</td>\n",
              "      <td>...</td>\n",
              "      <td>NaN</td>\n",
              "      <td>NaN</td>\n",
              "      <td>Canon EOS 5D Mark II</td>\n",
              "      <td>2017-01-10 18:50:26</td>\n",
              "      <td>2017-01-10 17:29:00</td>\n",
              "      <td>NaN</td>\n",
              "      <td>2017-01-10 18:50:28</td>\n",
              "      <td>NaN</td>\n",
              "      <td>chrissy-robinson@archive.org</td>\n",
              "      <td>NaN</td>\n",
              "    </tr>\n",
              "    <tr>\n",
              "      <th>4</th>\n",
              "      <td>4</td>\n",
              "      <td>52</td>\n",
              "      <td>France. Assemblée nationale constituante (178...</td>\n",
              "      <td>NaN</td>\n",
              "      <td>NaN</td>\n",
              "      <td>NaN</td>\n",
              "      <td>NaN</td>\n",
              "      <td>NaN</td>\n",
              "      <td>compte rendu ses commettans par de bonneville ...</td>\n",
              "      <td>France. États généraux.</td>\n",
              "      <td>...</td>\n",
              "      <td>NaN</td>\n",
              "      <td>NaN</td>\n",
              "      <td>Canon EOS 5D Mark II</td>\n",
              "      <td>2016-08-15 18:17:02</td>\n",
              "      <td>2016-08-15 17:10:02</td>\n",
              "      <td>Martin &amp; Walter.  Révolution française,  I, ...</td>\n",
              "      <td>2016-08-15 18:17:05</td>\n",
              "      <td>NaN</td>\n",
              "      <td>chrissy-robinson@archive.org</td>\n",
              "      <td>NaN</td>\n",
              "    </tr>\n",
              "  </tbody>\n",
              "</table>\n",
              "<p>5 rows × 71 columns</p>\n",
              "</div>\n",
              "    <div class=\"colab-df-buttons\">\n",
              "\n",
              "  <div class=\"colab-df-container\">\n",
              "    <button class=\"colab-df-convert\" onclick=\"convertToInteractive('df-365b278c-c713-42af-aeba-f513d2b8bbd4')\"\n",
              "            title=\"Convert this dataframe to an interactive table.\"\n",
              "            style=\"display:none;\">\n",
              "\n",
              "  <svg xmlns=\"http://www.w3.org/2000/svg\" height=\"24px\" viewBox=\"0 -960 960 960\">\n",
              "    <path d=\"M120-120v-720h720v720H120Zm60-500h600v-160H180v160Zm220 220h160v-160H400v160Zm0 220h160v-160H400v160ZM180-400h160v-160H180v160Zm440 0h160v-160H620v160ZM180-180h160v-160H180v160Zm440 0h160v-160H620v160Z\"/>\n",
              "  </svg>\n",
              "    </button>\n",
              "\n",
              "  <style>\n",
              "    .colab-df-container {\n",
              "      display:flex;\n",
              "      gap: 12px;\n",
              "    }\n",
              "\n",
              "    .colab-df-convert {\n",
              "      background-color: #E8F0FE;\n",
              "      border: none;\n",
              "      border-radius: 50%;\n",
              "      cursor: pointer;\n",
              "      display: none;\n",
              "      fill: #1967D2;\n",
              "      height: 32px;\n",
              "      padding: 0 0 0 0;\n",
              "      width: 32px;\n",
              "    }\n",
              "\n",
              "    .colab-df-convert:hover {\n",
              "      background-color: #E2EBFA;\n",
              "      box-shadow: 0px 1px 2px rgba(60, 64, 67, 0.3), 0px 1px 3px 1px rgba(60, 64, 67, 0.15);\n",
              "      fill: #174EA6;\n",
              "    }\n",
              "\n",
              "    .colab-df-buttons div {\n",
              "      margin-bottom: 4px;\n",
              "    }\n",
              "\n",
              "    [theme=dark] .colab-df-convert {\n",
              "      background-color: #3B4455;\n",
              "      fill: #D2E3FC;\n",
              "    }\n",
              "\n",
              "    [theme=dark] .colab-df-convert:hover {\n",
              "      background-color: #434B5C;\n",
              "      box-shadow: 0px 1px 3px 1px rgba(0, 0, 0, 0.15);\n",
              "      filter: drop-shadow(0px 1px 2px rgba(0, 0, 0, 0.3));\n",
              "      fill: #FFFFFF;\n",
              "    }\n",
              "  </style>\n",
              "\n",
              "    <script>\n",
              "      const buttonEl =\n",
              "        document.querySelector('#df-365b278c-c713-42af-aeba-f513d2b8bbd4 button.colab-df-convert');\n",
              "      buttonEl.style.display =\n",
              "        google.colab.kernel.accessAllowed ? 'block' : 'none';\n",
              "\n",
              "      async function convertToInteractive(key) {\n",
              "        const element = document.querySelector('#df-365b278c-c713-42af-aeba-f513d2b8bbd4');\n",
              "        const dataTable =\n",
              "          await google.colab.kernel.invokeFunction('convertToInteractive',\n",
              "                                                    [key], {});\n",
              "        if (!dataTable) return;\n",
              "\n",
              "        const docLinkHtml = 'Like what you see? Visit the ' +\n",
              "          '<a target=\"_blank\" href=https://colab.research.google.com/notebooks/data_table.ipynb>data table notebook</a>'\n",
              "          + ' to learn more about interactive tables.';\n",
              "        element.innerHTML = '';\n",
              "        dataTable['output_type'] = 'display_data';\n",
              "        await google.colab.output.renderOutput(dataTable, element);\n",
              "        const docLink = document.createElement('div');\n",
              "        docLink.innerHTML = docLinkHtml;\n",
              "        element.appendChild(docLink);\n",
              "      }\n",
              "    </script>\n",
              "  </div>\n",
              "\n",
              "\n",
              "<div id=\"df-a3a34711-8b25-4d9b-beef-1ff1147405f1\">\n",
              "  <button class=\"colab-df-quickchart\" onclick=\"quickchart('df-a3a34711-8b25-4d9b-beef-1ff1147405f1')\"\n",
              "            title=\"Suggest charts\"\n",
              "            style=\"display:none;\">\n",
              "\n",
              "<svg xmlns=\"http://www.w3.org/2000/svg\" height=\"24px\"viewBox=\"0 0 24 24\"\n",
              "     width=\"24px\">\n",
              "    <g>\n",
              "        <path d=\"M19 3H5c-1.1 0-2 .9-2 2v14c0 1.1.9 2 2 2h14c1.1 0 2-.9 2-2V5c0-1.1-.9-2-2-2zM9 17H7v-7h2v7zm4 0h-2V7h2v10zm4 0h-2v-4h2v4z\"/>\n",
              "    </g>\n",
              "</svg>\n",
              "  </button>\n",
              "\n",
              "<style>\n",
              "  .colab-df-quickchart {\n",
              "      --bg-color: #E8F0FE;\n",
              "      --fill-color: #1967D2;\n",
              "      --hover-bg-color: #E2EBFA;\n",
              "      --hover-fill-color: #174EA6;\n",
              "      --disabled-fill-color: #AAA;\n",
              "      --disabled-bg-color: #DDD;\n",
              "  }\n",
              "\n",
              "  [theme=dark] .colab-df-quickchart {\n",
              "      --bg-color: #3B4455;\n",
              "      --fill-color: #D2E3FC;\n",
              "      --hover-bg-color: #434B5C;\n",
              "      --hover-fill-color: #FFFFFF;\n",
              "      --disabled-bg-color: #3B4455;\n",
              "      --disabled-fill-color: #666;\n",
              "  }\n",
              "\n",
              "  .colab-df-quickchart {\n",
              "    background-color: var(--bg-color);\n",
              "    border: none;\n",
              "    border-radius: 50%;\n",
              "    cursor: pointer;\n",
              "    display: none;\n",
              "    fill: var(--fill-color);\n",
              "    height: 32px;\n",
              "    padding: 0;\n",
              "    width: 32px;\n",
              "  }\n",
              "\n",
              "  .colab-df-quickchart:hover {\n",
              "    background-color: var(--hover-bg-color);\n",
              "    box-shadow: 0 1px 2px rgba(60, 64, 67, 0.3), 0 1px 3px 1px rgba(60, 64, 67, 0.15);\n",
              "    fill: var(--button-hover-fill-color);\n",
              "  }\n",
              "\n",
              "  .colab-df-quickchart-complete:disabled,\n",
              "  .colab-df-quickchart-complete:disabled:hover {\n",
              "    background-color: var(--disabled-bg-color);\n",
              "    fill: var(--disabled-fill-color);\n",
              "    box-shadow: none;\n",
              "  }\n",
              "\n",
              "  .colab-df-spinner {\n",
              "    border: 2px solid var(--fill-color);\n",
              "    border-color: transparent;\n",
              "    border-bottom-color: var(--fill-color);\n",
              "    animation:\n",
              "      spin 1s steps(1) infinite;\n",
              "  }\n",
              "\n",
              "  @keyframes spin {\n",
              "    0% {\n",
              "      border-color: transparent;\n",
              "      border-bottom-color: var(--fill-color);\n",
              "      border-left-color: var(--fill-color);\n",
              "    }\n",
              "    20% {\n",
              "      border-color: transparent;\n",
              "      border-left-color: var(--fill-color);\n",
              "      border-top-color: var(--fill-color);\n",
              "    }\n",
              "    30% {\n",
              "      border-color: transparent;\n",
              "      border-left-color: var(--fill-color);\n",
              "      border-top-color: var(--fill-color);\n",
              "      border-right-color: var(--fill-color);\n",
              "    }\n",
              "    40% {\n",
              "      border-color: transparent;\n",
              "      border-right-color: var(--fill-color);\n",
              "      border-top-color: var(--fill-color);\n",
              "    }\n",
              "    60% {\n",
              "      border-color: transparent;\n",
              "      border-right-color: var(--fill-color);\n",
              "    }\n",
              "    80% {\n",
              "      border-color: transparent;\n",
              "      border-right-color: var(--fill-color);\n",
              "      border-bottom-color: var(--fill-color);\n",
              "    }\n",
              "    90% {\n",
              "      border-color: transparent;\n",
              "      border-bottom-color: var(--fill-color);\n",
              "    }\n",
              "  }\n",
              "</style>\n",
              "\n",
              "  <script>\n",
              "    async function quickchart(key) {\n",
              "      const quickchartButtonEl =\n",
              "        document.querySelector('#' + key + ' button');\n",
              "      quickchartButtonEl.disabled = true;  // To prevent multiple clicks.\n",
              "      quickchartButtonEl.classList.add('colab-df-spinner');\n",
              "      try {\n",
              "        const charts = await google.colab.kernel.invokeFunction(\n",
              "            'suggestCharts', [key], {});\n",
              "      } catch (error) {\n",
              "        console.error('Error during call to suggestCharts:', error);\n",
              "      }\n",
              "      quickchartButtonEl.classList.remove('colab-df-spinner');\n",
              "      quickchartButtonEl.classList.add('colab-df-quickchart-complete');\n",
              "    }\n",
              "    (() => {\n",
              "      let quickchartButtonEl =\n",
              "        document.querySelector('#df-a3a34711-8b25-4d9b-beef-1ff1147405f1 button');\n",
              "      quickchartButtonEl.style.display =\n",
              "        google.colab.kernel.accessAllowed ? 'block' : 'none';\n",
              "    })();\n",
              "  </script>\n",
              "</div>\n",
              "    </div>\n",
              "  </div>\n"
            ],
            "text/plain": [
              "   Unnamed: 0.1  Unnamed: 0  \\\n",
              "0             0           0   \n",
              "1             1           8   \n",
              "2             2          24   \n",
              "3             3          36   \n",
              "4             4          52   \n",
              "\n",
              "                                             subject  search_id   dfate  \\\n",
              "0                                    Public, Finance        NaN     NaN   \n",
              "1  Mirabeau, Honoré-Gabriel de Riquetti, comte d...        NaN     NaN   \n",
              "2                                   Church and state        NaN  1791.0   \n",
              "3                                                NaN        NaN     NaN   \n",
              "4  France. Assemblée nationale constituante (178...        NaN     NaN   \n",
              "\n",
              "  physical-description  rerepublish volume  \\\n",
              "0                  NaN          NaN    NaN   \n",
              "1                  NaN          NaN    NaN   \n",
              "2                  NaN          NaN    NaN   \n",
              "3                  NaN          NaN    NaN   \n",
              "4                  NaN          NaN    NaN   \n",
              "\n",
              "                                        text_content  \\\n",
              "0  va de dépense qve rend le directoire du départ...   \n",
              "1  éloge funebre de mirabeau prononcé le mai la c...   \n",
              "2  nouvelle instruction en forme de conférence ou...   \n",
              "3  triomphe de rité un ay san the ri yertissement...   \n",
              "4  compte rendu ses commettans par de bonneville ...   \n",
              "\n",
              "                                             creator  ...         coverage  \\\n",
              "0                      Ardèche (France). Directoire.  ...  France--Ardèche   \n",
              "1  Société des amis de la constitution (Sèvres...  ...              NaN   \n",
              "2         Pichard, Jean-Louis, 1759-1819, publisher.  ...              NaN   \n",
              "3                                                NaN  ...              NaN   \n",
              "4                         France. États généraux.  ...              NaN   \n",
              "\n",
              "  foldout-operator                camera           updatedate  \\\n",
              "0              NaN                   NaN                  NaN   \n",
              "1              NaN  Canon EOS 5D Mark II  2016-08-17 15:12:42   \n",
              "2              NaN                   NaN  2017-04-19 13:15:32   \n",
              "3              NaN  Canon EOS 5D Mark II  2017-01-10 18:50:26   \n",
              "4              NaN  Canon EOS 5D Mark II  2016-08-15 18:17:02   \n",
              "\n",
              "            publicdate                                           citation  \\\n",
              "0  2016-05-10 21:20:59                                                NaN   \n",
              "1  2016-08-17 13:56:08                                                NaN   \n",
              "2  2017-04-19 12:13:44  Barbier, A.A.  Ouvrages anonymes,  III, column...   \n",
              "3  2017-01-10 17:29:00                                                NaN   \n",
              "4  2016-08-15 17:10:02  Martin & Walter.  Révolution française,  I, ...   \n",
              "\n",
              "             addeddate  link-to-catalog                       updater source  \n",
              "0  2016-05-10 21:20:59              NaN                           NaN    NaN  \n",
              "1  2016-08-17 15:12:44              NaN  chrissy-robinson@archive.org    NaN  \n",
              "2  2017-04-19 13:15:34              NaN  chrissy-robinson@archive.org    NaN  \n",
              "3  2017-01-10 18:50:28              NaN  chrissy-robinson@archive.org    NaN  \n",
              "4  2016-08-15 18:17:05              NaN  chrissy-robinson@archive.org    NaN  \n",
              "\n",
              "[5 rows x 71 columns]"
            ]
          },
          "execution_count": 40,
          "metadata": {},
          "output_type": "execute_result"
        }
      ],
      "source": [
        "df.head()"
      ]
    },
    {
      "cell_type": "code",
      "execution_count": 41,
      "metadata": {
        "colab": {
          "base_uri": "https://localhost:8080/"
        },
        "id": "zapDIm0Z4cLm",
        "outputId": "12f34414-01d9-4fb1-9b22-949753568ff6"
      },
      "outputs": [
        {
          "name": "stdout",
          "output_type": "stream",
          "text": [
            "Non-string entries found at indices:\n",
            "Empty DataFrame\n",
            "Columns: [Unnamed: 0.1, Unnamed: 0, subject, search_id, dfate, physical-description, rerepublish, volume, text_content, creator, sponsor, ocr, language, bwocr, repub_state, languate, page-progression, scanfee, file_name, contributor, year, invoice, link_to_catalog, foldoutcount, scanner, uploader, republisher_date, collection, physical_description, curation, item_number, scanningcenter, openlibrary_edition, shiptracking, scandate, openlibrary_work, sponsordate, date, repub_seconds, identifier, identifier-ark, mediatype, notes, identifier-access, topicmodel, publisher, republisher_operator, republisher_time, operator, ppi, description, bookplateleaf, republisher, title, imagecount, allsubjects, foldout_seconds, bookreader-defaults, lccn, backup_location, call_number, coverage, foldout-operator, camera, updatedate, publicdate, citation, addeddate, link-to-catalog, updater, source]\n",
            "Index: []\n",
            "\n",
            "[0 rows x 71 columns]\n"
          ]
        }
      ],
      "source": [
        "non_string_entries = df[df['text_content'].apply(lambda x: not isinstance(x, str))]\n",
        "\n",
        "# Print the indices and values of non-string entries\n",
        "print(\"Non-string entries found at indices:\")\n",
        "print(non_string_entries)"
      ]
    },
    {
      "cell_type": "code",
      "execution_count": 33,
      "metadata": {
        "id": "hVvBG2KN4v6j"
      },
      "outputs": [],
      "source": [
        "# Remove rows where 'text_content' is NaN\n",
        "df = df.dropna(subset=['text_content'])\n",
        "\n",
        "df.reset_index(drop=True, inplace=True)\n"
      ]
    },
    {
      "cell_type": "code",
      "execution_count": 42,
      "metadata": {
        "colab": {
          "base_uri": "https://localhost:8080/"
        },
        "id": "g4k7o7k040BY",
        "outputId": "032b070a-b05f-4c65-8039-c87d32869985"
      },
      "outputs": [
        {
          "data": {
            "text/plain": [
              "1320"
            ]
          },
          "execution_count": 42,
          "metadata": {},
          "output_type": "execute_result"
        }
      ],
      "source": [
        "len(df)"
      ]
    },
    {
      "cell_type": "code",
      "execution_count": 43,
      "metadata": {
        "id": "m0Gt16h-xH1z"
      },
      "outputs": [],
      "source": [
        "df['openai_embedding'] = df['text_content'].apply(get_embedding)"
      ]
    },
    {
      "cell_type": "code",
      "execution_count": 44,
      "metadata": {
        "colab": {
          "base_uri": "https://localhost:8080/"
        },
        "id": "gh1-8Rohgvuy",
        "outputId": "64071a02-0bf4-4528-af60-5fe95af3af69"
      },
      "outputs": [
        {
          "data": {
            "text/plain": [
              "0    [0.035654012113809586, -0.011971485801041126, ...\n",
              "1    [0.018895348533988, -0.03015376441180706, -0.0...\n",
              "2    [0.03520096838474274, -0.046211861073970795, -...\n",
              "3    [0.02609384059906006, -0.036538705229759216, -...\n",
              "4    [0.03917008265852928, -0.031102433800697327, 0...\n",
              "Name: openai_embedding, dtype: object"
            ]
          },
          "execution_count": 44,
          "metadata": {},
          "output_type": "execute_result"
        }
      ],
      "source": [
        "df['openai_embedding'].head()"
      ]
    },
    {
      "cell_type": "code",
      "execution_count": 45,
      "metadata": {
        "colab": {
          "base_uri": "https://localhost:8080/"
        },
        "id": "54oFcOGTg6QQ",
        "outputId": "8679e681-2958-4c3d-cb0b-87723f87e90c"
      },
      "outputs": [
        {
          "data": {
            "text/plain": [
              "3072"
            ]
          },
          "execution_count": 45,
          "metadata": {},
          "output_type": "execute_result"
        }
      ],
      "source": [
        "# size of each embedding\n",
        "enc_1 = df['openai_embedding'].iloc[100]\n",
        "len(enc_1)"
      ]
    },
    {
      "cell_type": "markdown",
      "metadata": {
        "id": "l7fI70F82XAD"
      },
      "source": []
    },
    {
      "cell_type": "code",
      "execution_count": 46,
      "metadata": {
        "id": "TV3Tjoo_yKPj"
      },
      "outputs": [],
      "source": [
        "df.to_csv('data_frc_1791_norm_text_with_embedding.csv')"
      ]
    },
    {
      "cell_type": "markdown",
      "metadata": {
        "id": "QT28s30y2KK_"
      },
      "source": []
    },
    {
      "cell_type": "code",
      "execution_count": null,
      "metadata": {
        "id": "-v7gBUj_l_rn"
      },
      "outputs": [],
      "source": []
    }
  ],
  "metadata": {
    "colab": {
      "provenance": []
    },
    "kernelspec": {
      "display_name": "Python 3",
      "name": "python3"
    },
    "language_info": {
      "name": "python"
    }
  },
  "nbformat": 4,
  "nbformat_minor": 0
}
